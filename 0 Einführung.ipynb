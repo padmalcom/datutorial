{
 "cells": [
  {
   "cell_type": "markdown",
   "metadata": {},
   "source": [
    "# Data Analytics Tutorial\n",
    "In diesem Notebook soll es darum gehen erste Schritte im Bereich der Datenanalyse kennenzulernen.\n",
    "\n",
    "- Datenaufbereitung\n",
    "- Visualisierung\n",
    "- Prognose\n",
    "\n",
    "Die entsprechenden Notebooks führen durch den jeweiligen Aufgabenbereich. Sollte eine Python-Funktion nicht klar sein,\n",
    "kann mit Shift+Tab eine Beschreibung im Notebook aufgerufen werden. Mehrmaliges Drücken von Shift+Tab lädt detailliertere\n",
    "Beschreibungen."
   ]
  },
  {
   "cell_type": "code",
   "execution_count": 1,
   "metadata": {},
   "outputs": [
    {
     "name": "stdout",
     "output_type": "stream",
     "text": [
      "1\n"
     ]
    }
   ],
   "source": [
    "s = 1\n",
    "print(1)"
   ]
  }
 ],
 "metadata": {
  "kernelspec": {
   "display_name": "Python 3",
   "language": "python",
   "name": "python3"
  },
  "language_info": {
   "codemirror_mode": {
    "name": "ipython",
    "version": 3
   },
   "file_extension": ".py",
   "mimetype": "text/x-python",
   "name": "python",
   "nbconvert_exporter": "python",
   "pygments_lexer": "ipython3",
   "version": "3.7.0"
  }
 },
 "nbformat": 4,
 "nbformat_minor": 2
}
