{
 "cells": [
  {
   "cell_type": "markdown",
   "metadata": {},
   "source": [
    "# Data Analytics Tutorial\n",
    "In diesem Notebook soll es darum gehen erste Schritte im Bereich der Datenanalyse kennenzulernen.\n",
    "\n",
    "- Datenaufbereitung\n",
    "- Visualisierung\n",
    "- Prognose\n",
    "\n",
    "Die entsprechenden Notebooks führen durch den jeweiligen Aufgabenbereich. Sollte eine Python-Funktion nicht klar sein,\n",
    "kann mit Shift+Tab eine Beschreibung im Notebook aufgerufen werden. Mehrmaliges Drücken von Shift+Tab lädt detailliertere\n",
    "Beschreibungen.\n",
    "\n",
    "## Vorgehen\n",
    "\n",
    "1. In jedem Kapitel werden einige Funktionen aus verschiedenen Python-Bibliotheken und deren Gebrauch vorgestellt. Diese sind einzeln zu betrachten und gerne zu verändern. Durch das **Spielen mit den Daten**, erhöht sich das Verständnis des Codes und der Methode.\n",
    "\n",
    "2. Im Folgenden soll das Gezeigte **auf ein neues Datenset angewendet** werden. Hierzu stelle ich in diesem Tutorial einige Datensätze vor, die frei im Internet verfügbar sind.\n",
    "\n",
    "3. Nach der Anwendung auf einen anderen Datensatz hilft es die **Aufgaben zum jeweiligen Kapitel** zu bearbeiten. Hier kann das eigene Wissen und Verständnis der vermittelten Inhalte geprüft und gefestigt werden."
   ]
  }
 ],
 "metadata": {
  "kernelspec": {
   "display_name": "Python 3",
   "language": "python",
   "name": "python3"
  },
  "language_info": {
   "codemirror_mode": {
    "name": "ipython",
    "version": 3
   },
   "file_extension": ".py",
   "mimetype": "text/x-python",
   "name": "python",
   "nbconvert_exporter": "python",
   "pygments_lexer": "ipython3",
   "version": "3.7.0"
  }
 },
 "nbformat": 4,
 "nbformat_minor": 2
}
