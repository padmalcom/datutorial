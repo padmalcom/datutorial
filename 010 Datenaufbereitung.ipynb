{
 "cells": [
  {
   "cell_type": "markdown",
   "metadata": {},
   "source": [
    "## Datenaufbereitung\n",
    "\n",
    "### Daten laden\n",
    "Daten können über verschiedene Wege in ein Notebook geladen werden. Das erste Beispiel ist eine simple Definition zweier Arrays (x und y) mit mehreren ganzzaligen Werten (Integer). Im Folgenden wird die Bibliothek _pandas_ über _import_ eingebunden und die Datei *x_square.csv* gelesen, die im Ordner _data_ (relativ zum Pfad, aus dem Jupyter Notebook gestartet wurde) liegt. Das Ergebnis wird in einem _DataFrame_ abgelegt. _DataFrames_ werden in diesem Tutorial häufig verwendet, da sie leicht zu verstehen und zu handhaben sind."
   ]
  },
  {
   "cell_type": "code",
   "execution_count": 2,
   "metadata": {},
   "outputs": [],
   "source": [
    "# Per Definition als Array\n",
    "x = [1,2,3,4,5,6,7,8,9]\n",
    "y = [1,4,9,16,25,36,49,64,81]\n",
    "\n",
    "# In einen Pandas DataFrame aus einer Date\n",
    "# pandas muss zuvor mit \"pip install pandas\" installiert werden\n",
    "import pandas\n",
    "x_square = pandas.read_csv('data/x_square.csv')"
   ]
  },
  {
   "cell_type": "markdown",
   "metadata": {},
   "source": [
    "## Daten ausgeben\n",
    "Es gibt verschiedenste Möglichkeiten Daten auszugeben. Die einfachste ist ein Aufruf der Methode _print_, der ein Wert übergeben wird; hier z.B. die Zeichenkette (String) _x array:_ oder die Ganzzahl _i_. _i_ ist ein Wert, der in einer For-Schleife definiert wird. Diese _besucht_ jeden einzelnen Wert im Array _x_ und setzt _i_ auf den Wert des jeweiligen Durchlaufs.\n",
    "\n",
    "Python erwartet, dass alle Befehle, die innerhalb der For-Schleife ausgeführt werden sollen, eingerückt sind (Tab oder Leerzeichen). Alle eingerückten Werte werden dann im Falle von _x_ neun mal ausgeführt. Ist eine folgende Zeile nicht mehr eingerückt (hier _print(\"\\n y array:\")_), dann wird der Befehl wie gewohnt nur einmal aufgerufen.\n",
    "\n",
    "Ein _DataFrame_ kann einfach über die Methode _print_ ausgegeben werden und erhält zusätzlich zu den Werten bei der Ausgabe einen Index, der jedoch kein Bestandteil der Datenbasis ist (sprich er ist nicht in dem csv enthalten).\n",
    "\n",
    "Indem das Modul _pprint_ aus der Bibliothek _pprint_ importiert wird, kann dieses verwendet werden, um eine ansehnlichere Ausgabe von Arrays zu erreichen.\n",
    "\n",
    "Jupyter Notebook gibt in der Regel das Ergebnis der letzten Funktion ebenfalls aus, auch ohne einen Aufruf von _print_ oder _pprint_, bitte also nicht wundern, wenn auf einmal eine Ausgabe erscheint, die nie verlangt wurde."
   ]
  },
  {
   "cell_type": "code",
   "execution_count": 7,
   "metadata": {},
   "outputs": [
    {
     "name": "stdout",
     "output_type": "stream",
     "text": [
      " x array:\n",
      "1\n",
      "2\n",
      "3\n",
      "4\n",
      "5\n",
      "6\n",
      "7\n",
      "8\n",
      "9\n",
      "\n",
      " y array:\n",
      "1\n",
      "4\n",
      "9\n",
      "16\n",
      "25\n",
      "36\n",
      "49\n",
      "64\n",
      "81\n",
      "\n",
      "DataFrame:\n",
      "   x   y\n",
      "0  1   1\n",
      "1  2   4\n",
      "2  3   9\n",
      "3  4  16\n",
      "4  5  25\n",
      "5  6  36\n",
      "6  7  49\n",
      "7  8  64\n",
      "8  9  81\n",
      "\n",
      "\n",
      "[1, 2, 3, 4, 5, 6, 7, 8, 9]\n"
     ]
    }
   ],
   "source": [
    "# Arrays können über \"print\" ausgegeben werden.\n",
    "# Eine for-Schleife ermöglicht es jedes Element einzeln zu betrachten.\n",
    "print(\" x array:\")\n",
    "for i in x:\n",
    "        print(i)\n",
    "\n",
    "print(\"\\n y array:\")\n",
    "for i in y:\n",
    "        print(i)\n",
    "        \n",
    "# DataFrames können einfach über ein \"print\" ausgegeben werden.\n",
    "# Die erste Spalte des DataFrames ist der Index\n",
    "print(\"\\nDataFrame:\")\n",
    "print(x_square)\n",
    "\n",
    "from pprint import pprint\n",
    "\n",
    "print(\"\\n\")\n",
    "pprint(x)"
   ]
  },
  {
   "cell_type": "code",
   "execution_count": null,
   "metadata": {},
   "outputs": [],
   "source": []
  }
 ],
 "metadata": {
  "kernelspec": {
   "display_name": "Python 3",
   "language": "python",
   "name": "python3"
  },
  "language_info": {
   "codemirror_mode": {
    "name": "ipython",
    "version": 3
   },
   "file_extension": ".py",
   "mimetype": "text/x-python",
   "name": "python",
   "nbconvert_exporter": "python",
   "pygments_lexer": "ipython3",
   "version": "3.7.0"
  }
 },
 "nbformat": 4,
 "nbformat_minor": 2
}
