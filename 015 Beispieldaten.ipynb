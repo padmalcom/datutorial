{
 "cells": [
  {
   "cell_type": "markdown",
   "metadata": {},
   "source": [
    "# Beispieldaten\n",
    "Die Datenbeschaffung (sei es zum Lernen, zum Trainieren von Machine Learning Modellen oder zum Erproben neuer Methoden) ist ein essentieller und häufig etwas mühseliger Bestandteil der Datenanalyse.\n",
    "In diesem Projekt werden für Erklärungen möglichst einfache Daten verwendet. Für die zu erbringende Transferleistung sollen die erworbenen Fähigkeiten auf weitere Daten angewandt werden. Hierfür sind unten einige freie Beispieldatensätze aufgelistet.\n",
    "\n",
    "Die Website _kaggle.com_ ist dafür eine gute Quelle.\n",
    "\n",
    "- AWS Honeypot Attack Data: https://www.kaggle.com/casimian2000/aws-honeypot-attack-data/version/1\n",
    "- Credit Card Fraud Detection: https://www.kaggle.com/mlg-ulb/creditcardfraud\n",
    "- Olympic Games - Athlets and Results: https://www.kaggle.com/heesoo37/120-years-of-olympic-history-athletes-and-results"
   ]
  }
 ],
 "metadata": {
  "kernelspec": {
   "display_name": "Python 3",
   "language": "python",
   "name": "python3"
  },
  "language_info": {
   "codemirror_mode": {
    "name": "ipython",
    "version": 3
   },
   "file_extension": ".py",
   "mimetype": "text/x-python",
   "name": "python",
   "nbconvert_exporter": "python",
   "pygments_lexer": "ipython3",
   "version": "3.7.0"
  }
 },
 "nbformat": 4,
 "nbformat_minor": 2
}
