{
 "cells": [
  {
   "cell_type": "markdown",
   "metadata": {},
   "source": [
    "# Natural Language Processing\n",
    "Die Verarbeitung von natürlicher Sprache ist eine der größten Herausforderungen in der Informatik.\n",
    "\n",
    "### Bibliotheken:\n",
    "- NLTK\n",
    "- PyTorch NLP\n",
    "\n",
    "### Seiten:\n",
    "- https://nlpforhackers.io\n",
    "\n",
    "\n",
    "### Installation:\n",
    "Neben der einfachen Installation von nltk über **pip install nltk**, benötigt die Bibliothek häufig sogenannte Corpora. Sollte ein solcher fehlen, wird entsprechend in der Fehlermeldung darauf hingewiesen. mit **nltk.download()** im Terminal wird das Download-Fenster von nltk geöffnet und die fehlenden Dateien nachgeladen. Im Beispiel-Code wird die Bibliothek per Befehl runtergeladen (_nltk.download('punkt')_)."
   ]
  },
  {
   "cell_type": "markdown",
   "metadata": {},
   "source": [
    "# Morphologie, Sysntax und Semantik"
   ]
  },
  {
   "cell_type": "code",
   "execution_count": 10,
   "metadata": {},
   "outputs": [
    {
     "name": "stdout",
     "output_type": "stream",
     "text": [
      "[nltk_data] Downloading package punkt to /root/nltk_data...\n",
      "[nltk_data]   Package punkt is already up-to-date!\n",
      "[nltk_data] Downloading package averaged_perceptron_tagger to\n",
      "[nltk_data]     /root/nltk_data...\n",
      "[nltk_data]   Package averaged_perceptron_tagger is already up-to-\n",
      "[nltk_data]       date!\n",
      "[nltk_data] Downloading package maxent_ne_chunker to\n",
      "[nltk_data]     /root/nltk_data...\n",
      "[nltk_data]   Package maxent_ne_chunker is already up-to-date!\n",
      "[nltk_data] Downloading package words to /root/nltk_data...\n",
      "[nltk_data]   Package words is already up-to-date!\n",
      "['Sicherheit', 'ist', 'sehr', 'wichtig', 'für', 'uns', '.']\n",
      "[('Sicherheit', 'NNP'), ('ist', 'NN'), ('sehr', 'NN'), ('wichtig', 'NN'), ('für', 'NN'), ('uns', 'NNS'), ('.', '.')]\n",
      "(S (GPE Sicherheit/NNP) ist/NN sehr/NN wichtig/NN für/NN uns/NNS ./.)\n"
     ]
    }
   ],
   "source": [
    "#from nltk import word_tokenize, pos_tag, ne_chunk\n",
    "import nltk\n",
    "\n",
    "# Falls ein Proxy genutzt wird\n",
    "# nltk.set_proxy('http://proxy.example.com:3128', ('USERNAME', 'PASSWORD'))\n",
    "\n",
    "# German corpus\n",
    "# https://datascience.blog.wzb.eu/2016/07/13/accurate-part-of-speech-tagging-of-german-texts-with-nltk/\n",
    "\n",
    "nltk.download('punkt')\n",
    "nltk.download('averaged_perceptron_tagger')\n",
    "nltk.download('maxent_ne_chunker')\n",
    "nltk.download('words')\n",
    " \n",
    "#text = \"Cyber Security is important for us.\"\n",
    "text = \"Sicherheit ist sehr wichtig für uns.\"\n",
    " \n",
    "# Morphology Level\n",
    "tokens = word_tokenize(text)\n",
    "print(tokens)\n",
    " \n",
    "# Syntax Level\n",
    "tagged_tokens = pos_tag(tokens)\n",
    "print(tagged_tokens)\n",
    " \n",
    "# Semantics Level\n",
    "ner_tree = ne_chunk(tagged_tokens)\n",
    "print(ner_tree)"
   ]
  },
  {
   "cell_type": "markdown",
   "metadata": {},
   "source": [
    "# Sprachenerkennung\n",
    "Probabilistischer Ansatz über Stopwords nach http://blog.alejandronolla.com/2013/05/15/detecting-text-language-with-python-and-nltk/"
   ]
  },
  {
   "cell_type": "code",
   "execution_count": 12,
   "metadata": {},
   "outputs": [
    {
     "ename": "NameError",
     "evalue": "name 'wordpunct_tokenize' is not defined",
     "output_type": "error",
     "traceback": [
      "\u001b[0;31m---------------------------------------------------------------------------\u001b[0m",
      "\u001b[0;31mNameError\u001b[0m                                 Traceback (most recent call last)",
      "\u001b[0;32m<ipython-input-12-b86f45d0a873>\u001b[0m in \u001b[0;36m<module>\u001b[0;34m\u001b[0m\n\u001b[1;32m     21\u001b[0m \u001b[0mtext\u001b[0m \u001b[0;34m=\u001b[0m \u001b[0;34m\"Sicherheit ist sehr wichtig für uns.\"\u001b[0m\u001b[0;34m\u001b[0m\u001b[0m\n\u001b[1;32m     22\u001b[0m \u001b[0;34m\u001b[0m\u001b[0m\n\u001b[0;32m---> 23\u001b[0;31m \u001b[0mprint\u001b[0m\u001b[0;34m(\u001b[0m\u001b[0mdetect_language\u001b[0m\u001b[0;34m(\u001b[0m\u001b[0mtext\u001b[0m\u001b[0;34m)\u001b[0m\u001b[0;34m)\u001b[0m\u001b[0;34m\u001b[0m\u001b[0m\n\u001b[0m",
      "\u001b[0;32m<ipython-input-12-b86f45d0a873>\u001b[0m in \u001b[0;36mdetect_language\u001b[0;34m(text)\u001b[0m\n\u001b[1;32m      3\u001b[0m \u001b[0;32mdef\u001b[0m \u001b[0mdetect_language\u001b[0m\u001b[0;34m(\u001b[0m\u001b[0mtext\u001b[0m\u001b[0;34m)\u001b[0m\u001b[0;34m:\u001b[0m\u001b[0;34m\u001b[0m\u001b[0m\n\u001b[1;32m      4\u001b[0m     \u001b[0mlanguages_ratios\u001b[0m \u001b[0;34m=\u001b[0m \u001b[0;34m{\u001b[0m\u001b[0;34m}\u001b[0m\u001b[0;34m\u001b[0m\u001b[0m\n\u001b[0;32m----> 5\u001b[0;31m     \u001b[0mtokens\u001b[0m \u001b[0;34m=\u001b[0m \u001b[0mwordpunct_tokenize\u001b[0m\u001b[0;34m(\u001b[0m\u001b[0mtext\u001b[0m\u001b[0;34m)\u001b[0m\u001b[0;34m\u001b[0m\u001b[0m\n\u001b[0m\u001b[1;32m      6\u001b[0m     \u001b[0mwords\u001b[0m \u001b[0;34m=\u001b[0m \u001b[0;34m[\u001b[0m\u001b[0mword\u001b[0m\u001b[0;34m.\u001b[0m\u001b[0mlower\u001b[0m\u001b[0;34m(\u001b[0m\u001b[0;34m)\u001b[0m \u001b[0;32mfor\u001b[0m \u001b[0mword\u001b[0m \u001b[0;32min\u001b[0m \u001b[0mtokens\u001b[0m\u001b[0;34m]\u001b[0m\u001b[0;34m\u001b[0m\u001b[0m\n\u001b[1;32m      7\u001b[0m \u001b[0;34m\u001b[0m\u001b[0m\n",
      "\u001b[0;31mNameError\u001b[0m: name 'wordpunct_tokenize' is not defined"
     ]
    }
   ],
   "source": [
    "from nltk.corpus import stopwords\n",
    "\n",
    "def detect_language(text):\n",
    "    languages_ratios = {}\n",
    "    tokens = wordpunct_tokenize(text)\n",
    "    words = [word.lower() for word in tokens]\n",
    "\n",
    "    # Wieviele Stopwords von Sprache language sind in text\n",
    "    for language in stopwords.fileids():\n",
    "        stopwords_set = set(stopwords.words(language))\n",
    "        words_set = set(words)\n",
    "        # Bereichne die Schnittmenge von stopwords und text\n",
    "        common_elements = words_set.intersection(stopwords_set)\n",
    "\n",
    "        # Schreibe die Anzahl der Elemente der Schnittmenge als Wert für die Sprache language\n",
    "        languages_ratios[language] = len(common_elements)\n",
    "\n",
    "    most_rated_language = max(languages_ratios, key=languages_ratios.get)\n",
    "    return most_rated_language\n",
    "\n",
    "text = \"Sicherheit ist sehr wichtig für uns.\"\n",
    "\n",
    "print(detect_language(text))"
   ]
  }
 ],
 "metadata": {
  "kernelspec": {
   "display_name": "Python 3",
   "language": "python",
   "name": "python3"
  },
  "language_info": {
   "codemirror_mode": {
    "name": "ipython",
    "version": 3
   },
   "file_extension": ".py",
   "mimetype": "text/x-python",
   "name": "python",
   "nbconvert_exporter": "python",
   "pygments_lexer": "ipython3",
   "version": "3.7.0"
  }
 },
 "nbformat": 4,
 "nbformat_minor": 2
}
