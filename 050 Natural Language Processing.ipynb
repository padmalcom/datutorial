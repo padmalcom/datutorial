{
 "cells": [
  {
   "cell_type": "markdown",
   "metadata": {},
   "source": [
    "# Natural Language Processing\n",
    "Die Verarbeitung von natürlicher Sprache ist eine der größten Herausforderungen in der Informatik.\n",
    "\n",
    "### Bibliotheken:\n",
    "- NLTK\n",
    "- PyTorch NLP\n",
    "\n",
    "### Seiten:\n",
    "- https://nlpforhackers.io\n",
    "\n",
    "\n",
    "### Installation:\n",
    "Neben der einfachen Installation von nltk über **pip install nltk**, benötigt die Bibliothek häufig sogenannte Corpora. Sollte ein solcher fehlen, wird entsprechend in der Fehlermeldung darauf hingewiesen. mit **nltk.download()** im Terminal wird das Download-Fenster von nltk geöffnet und die fehlenden Dateien nachgeladen. Im Beispiel-Code wird die Bibliothek per Befehl runtergeladen (_nltk.download('punkt')_)."
   ]
  },
  {
   "cell_type": "code",
   "execution_count": 10,
   "metadata": {},
   "outputs": [
    {
     "name": "stdout",
     "output_type": "stream",
     "text": [
      "[nltk_data] Downloading package punkt to /root/nltk_data...\n",
      "[nltk_data]   Package punkt is already up-to-date!\n",
      "[nltk_data] Downloading package averaged_perceptron_tagger to\n",
      "[nltk_data]     /root/nltk_data...\n",
      "[nltk_data]   Package averaged_perceptron_tagger is already up-to-\n",
      "[nltk_data]       date!\n",
      "[nltk_data] Downloading package maxent_ne_chunker to\n",
      "[nltk_data]     /root/nltk_data...\n",
      "[nltk_data]   Package maxent_ne_chunker is already up-to-date!\n",
      "[nltk_data] Downloading package words to /root/nltk_data...\n",
      "[nltk_data]   Package words is already up-to-date!\n",
      "['Sicherheit', 'ist', 'sehr', 'wichtig', 'für', 'uns', '.']\n",
      "[('Sicherheit', 'NNP'), ('ist', 'NN'), ('sehr', 'NN'), ('wichtig', 'NN'), ('für', 'NN'), ('uns', 'NNS'), ('.', '.')]\n",
      "(S (GPE Sicherheit/NNP) ist/NN sehr/NN wichtig/NN für/NN uns/NNS ./.)\n"
     ]
    }
   ],
   "source": [
    "#from nltk import word_tokenize, pos_tag, ne_chunk\n",
    "import nltk\n",
    "\n",
    "# Falls ein Proxy genutzt wird\n",
    "# nltk.set_proxy('http://proxy.example.com:3128', ('USERNAME', 'PASSWORD'))\n",
    "\n",
    "# German corpus\n",
    "# https://datascience.blog.wzb.eu/2016/07/13/accurate-part-of-speech-tagging-of-german-texts-with-nltk/\n",
    "\n",
    "nltk.download('punkt')\n",
    "nltk.download('averaged_perceptron_tagger')\n",
    "nltk.download('maxent_ne_chunker')\n",
    "nltk.download('words')\n",
    " \n",
    "#text = \"Cyber Security is important for us.\"\n",
    "text = \"Sicherheit ist sehr wichtig für uns.\"\n",
    " \n",
    "# Morphology Level\n",
    "tokens = word_tokenize(text)\n",
    "print(tokens)\n",
    " \n",
    "# Syntax Level\n",
    "tagged_tokens = pos_tag(tokens)\n",
    "print(tagged_tokens)\n",
    " \n",
    "# Semantics Level\n",
    "ner_tree = ne_chunk(tagged_tokens)\n",
    "print(ner_tree)"
   ]
  }
 ],
 "metadata": {
  "kernelspec": {
   "display_name": "Python 3",
   "language": "python",
   "name": "python3"
  },
  "language_info": {
   "codemirror_mode": {
    "name": "ipython",
    "version": 3
   },
   "file_extension": ".py",
   "mimetype": "text/x-python",
   "name": "python",
   "nbconvert_exporter": "python",
   "pygments_lexer": "ipython3",
   "version": "3.7.0"
  }
 },
 "nbformat": 4,
 "nbformat_minor": 2
}
