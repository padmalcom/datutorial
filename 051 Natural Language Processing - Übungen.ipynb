{
 "cells": [
  {
   "cell_type": "markdown",
   "metadata": {},
   "source": [
    "# Natural Language Processing - Übungen\n",
    "- Versuchen Sie für die Sprachenerkennung ein eigenes Wörterbuch zu erstellen und es anstelle der Stopwords aus _nltk_ zu verwenden.\n",
    "- Ändern Sie den Beispielsatz ab, indem sie _chancellor_ groß schreiben und betrachten Sie die Auswirkungen auf die Named Entity Recognition."
   ]
  }
 ],
 "metadata": {
  "kernelspec": {
   "display_name": "Python 3",
   "language": "python",
   "name": "python3"
  },
  "language_info": {
   "codemirror_mode": {
    "name": "ipython",
    "version": 3
   },
   "file_extension": ".py",
   "mimetype": "text/x-python",
   "name": "python",
   "nbconvert_exporter": "python",
   "pygments_lexer": "ipython3",
   "version": "3.7.0"
  }
 },
 "nbformat": 4,
 "nbformat_minor": 2
}
