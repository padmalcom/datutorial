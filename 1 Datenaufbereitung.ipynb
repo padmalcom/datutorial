{
 "cells": [
  {
   "cell_type": "markdown",
   "metadata": {},
   "source": [
    "## Datenaufbereitung\n",
    "\n",
    "### Daten laden\n",
    "Daten können über verschiedene Wege in ein Notebook geladen werden."
   ]
  },
  {
   "cell_type": "code",
   "execution_count": 1,
   "metadata": {},
   "outputs": [],
   "source": [
    "# Per Definition als Array\n",
    "x = [1,2,3,4,5,6,7,8,9]\n",
    "y = [1,4,9,16,25,36,49,64,81]\n",
    "\n",
    "# In einen Pandas DataFrame aus einer Date\n",
    "# pandas muss zuvor mit \"pip install pandas\" installiert werden\n",
    "import pandas\n",
    "x_square = pandas.read_csv('data/x_square.csv')"
   ]
  },
  {
   "cell_type": "code",
   "execution_count": 2,
   "metadata": {},
   "outputs": [
    {
     "name": "stdout",
     "output_type": "stream",
     "text": [
      " x array:\n",
      "1\n",
      "2\n",
      "3\n",
      "4\n",
      "5\n",
      "6\n",
      "7\n",
      "8\n",
      "9\n",
      "\n",
      " y array:\n",
      "1\n",
      "4\n",
      "9\n",
      "16\n",
      "25\n",
      "36\n",
      "49\n",
      "64\n",
      "81\n",
      "\n",
      "DataFrame:\n",
      "   x   y\n",
      "0  1   1\n",
      "1  2   4\n",
      "2  3   9\n",
      "3  4  16\n",
      "4  5  25\n",
      "5  6  36\n",
      "6  7  49\n",
      "7  8  64\n",
      "8  9  81\n"
     ]
    }
   ],
   "source": [
    "# Arrays können über \"print\" ausgegeben werden.\n",
    "# Eine for-Schleife ermöglicht es jedes Element einzeln zu betrachten.\n",
    "print(\" x array:\")\n",
    "for i in x:\n",
    "        print(i)\n",
    "\n",
    "print(\"\\n y array:\")\n",
    "for i in y:\n",
    "        print(i)\n",
    "        \n",
    "# DataFrames können einfach über ein \"print\" ausgegeben werden.\n",
    "# Die erste Spalte des DataFrames ist der Index\n",
    "print(\"\\nDataFrame:\")\n",
    "print(x_square)"
   ]
  }
 ],
 "metadata": {
  "kernelspec": {
   "display_name": "Python 3",
   "language": "python",
   "name": "python3"
  },
  "language_info": {
   "codemirror_mode": {
    "name": "ipython",
    "version": 3
   },
   "file_extension": ".py",
   "mimetype": "text/x-python",
   "name": "python",
   "nbconvert_exporter": "python",
   "pygments_lexer": "ipython3",
   "version": "3.7.0"
  }
 },
 "nbformat": 4,
 "nbformat_minor": 2
}
